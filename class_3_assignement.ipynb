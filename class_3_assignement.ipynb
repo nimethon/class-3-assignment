{
  "nbformat": 4,
  "nbformat_minor": 0,
  "metadata": {
    "colab": {
      "provenance": [],
      "gpuType": "T4",
      "mount_file_id": "1jf1FtwpztmzTwtcLJTO4Drg_U9JGMExy",
      "authorship_tag": "ABX9TyNlT8YDhu7xjP+CBM+k94BT",
      "include_colab_link": true
    },
    "kernelspec": {
      "name": "python3",
      "display_name": "Python 3"
    },
    "language_info": {
      "name": "python"
    },
    "accelerator": "GPU"
  },
  "cells": [
    {
      "cell_type": "markdown",
      "metadata": {
        "id": "view-in-github",
        "colab_type": "text"
      },
      "source": [
        "<a href=\"https://colab.research.google.com/github/nimethon/class-3-assignment/blob/main/class_3_assignement.ipynb\" target=\"_parent\"><img src=\"https://colab.research.google.com/assets/colab-badge.svg\" alt=\"Open In Colab\"/></a>"
      ]
    },
    {
      "cell_type": "markdown",
      "source": [
        " Typecasting Challenge"
      ],
      "metadata": {
        "id": "zTIjTtE-YnNl"
      }
    },
    {
      "cell_type": "code",
      "source": [
        "a = \"100\"\n",
        "b = 25\n",
        "c = \"10.5\"\n",
        "\n",
        "# Convert a to integer and add it to b\n",
        "result1 = int(a) + b\n",
        "\n",
        "# Convert c to float and subtract it from result1\n",
        "result2 = result1 - float(c)\n",
        "\n",
        "# Convert final result to string and concatenate with message\n",
        "final_result = str(result2) + \" is the answer.\"\n",
        "\n",
        "# Print the final result\n",
        "print(final_result)"
      ],
      "metadata": {
        "id": "1UTDhPoQXgP8",
        "colab": {
          "base_uri": "https://localhost:8080/"
        },
        "outputId": "084a25b6-bb1c-4047-c4ec-f6f85bf93498"
      },
      "execution_count": null,
      "outputs": [
        {
          "output_type": "stream",
          "name": "stdout",
          "text": [
            "114.5 is the answer.\n"
          ]
        }
      ]
    },
    {
      "cell_type": "markdown",
      "source": [
        "Python Conditional Statements:\n"
      ],
      "metadata": {
        "id": "ogaiWllCu-jM"
      }
    },
    {
      "cell_type": "markdown",
      "source": [
        "11. Positive, Negative, or Zero:"
      ],
      "metadata": {
        "id": "Xr_PRtDcvRX0"
      }
    },
    {
      "cell_type": "code",
      "source": [
        "num = int(input('type a number: '))\n",
        "if num==0:\n",
        "  print('you type zero')\n",
        "elif num > 0:\n",
        "  print('you type a positive number')\n",
        "else:\n",
        "  print('you type a negative number')"
      ],
      "metadata": {
        "colab": {
          "base_uri": "https://localhost:8080/"
        },
        "id": "HJMHVzThvYiX",
        "outputId": "b5c5ec7a-c989-46fe-b200-9e1ec5c4cefe"
      },
      "execution_count": null,
      "outputs": [
        {
          "output_type": "stream",
          "name": "stdout",
          "text": [
            "type a number: 6\n",
            "you type a positive number\n"
          ]
        }
      ]
    },
    {
      "cell_type": "markdown",
      "source": [
        "12. Largest of Three Numbers:"
      ],
      "metadata": {
        "id": "Qc4sKAjFwRG1"
      }
    },
    {
      "cell_type": "code",
      "source": [
        "num1 = int(input('type a number: '))\n",
        "num2 = int(input('type 2nd number: '))\n",
        "num3 = int(input('type 3rd number: '))\n",
        "if num1>=num2 and num1>=num3:\n",
        "    largest= num1\n",
        "elif num2>=num1 and num2>=num3:\n",
        "    largest=num2\n",
        "else:\n",
        "    largest=num3\n",
        "print('largest number is: ',largest)\n"
      ],
      "metadata": {
        "id": "viT54p7av1Qp",
        "colab": {
          "base_uri": "https://localhost:8080/"
        },
        "outputId": "b848dc70-1ef1-4bdf-d13e-8e77ee11c30c"
      },
      "execution_count": null,
      "outputs": [
        {
          "output_type": "stream",
          "name": "stdout",
          "text": [
            "type a number: 2\n",
            "type 2nd number: 3\n",
            "type 3rd number: 555555\n",
            "largest number is:  555555\n"
          ]
        }
      ]
    },
    {
      "cell_type": "markdown",
      "source": [
        " Leap Year Checker:"
      ],
      "metadata": {
        "id": "p72wOQhSy5qB"
      }
    },
    {
      "cell_type": "code",
      "source": [
        "year= int(input('type a year: '))\n",
        "if year%4 == 0 and year%100 != 0 or year%400 == 0:\n",
        "  print(year,'is a leap year')\n",
        "else:\n",
        "  print(year,'is not a leap year')"
      ],
      "metadata": {
        "colab": {
          "base_uri": "https://localhost:8080/"
        },
        "id": "K65xDbp9ygsp",
        "outputId": "e089b785-b7ee-4cae-83b3-73a370243f25"
      },
      "execution_count": null,
      "outputs": [
        {
          "output_type": "stream",
          "name": "stdout",
          "text": [
            "type a year: 2012\n",
            "2012 is a leap year\n"
          ]
        }
      ]
    },
    {
      "cell_type": "markdown",
      "source": [
        "Grades Classification\n"
      ],
      "metadata": {
        "id": "b0rX227z0EyK"
      }
    },
    {
      "cell_type": "code",
      "source": [
        "def grade_calculator(number):\n",
        "    if number >= 90:\n",
        "        grade = 'A'\n",
        "    elif number >= 80:\n",
        "        grade = 'B'\n",
        "    elif number >= 70:\n",
        "        grade = 'C'\n",
        "    elif number >= 60:\n",
        "        grade = 'D'\n",
        "    else:\n",
        "        grade = 'F'\n",
        "    return grade\n",
        "#upper part a machine, lower part is user value\n",
        "\n",
        "expnumber = float(input(\"please submit your exam's mark:\",))\n",
        "expgrade=grade_calculator(expnumber)\n",
        "print(\"your grade for\",expnumber, 'is',expgrade)"
      ],
      "metadata": {
        "colab": {
          "base_uri": "https://localhost:8080/"
        },
        "id": "2xWdL62v0Jas",
        "outputId": "f0aff12c-4602-466d-e6ac-9ca212179735"
      },
      "execution_count": null,
      "outputs": [
        {
          "output_type": "stream",
          "name": "stdout",
          "text": [
            "please submit your exam's mark:94\n",
            "your grade for 94.0 is A\n"
          ]
        }
      ]
    },
    {
      "cell_type": "markdown",
      "source": [
        " Vowel or Consonant:"
      ],
      "metadata": {
        "id": "Hgppixei9G9D"
      }
    },
    {
      "cell_type": "code",
      "source": [
        "word = str(input('type a single character : '))\n",
        "if word in ['a', 'e', 'i', 'o', 'u']:\n",
        "  print('your typed vowel character: ',word)\n",
        "else:\n",
        "  print('your typed constant is: ',word)"
      ],
      "metadata": {
        "colab": {
          "base_uri": "https://localhost:8080/"
        },
        "id": "nGamQcWF0Vpq",
        "outputId": "0bf18ae9-fa3b-4268-dabd-03e55398b227"
      },
      "execution_count": null,
      "outputs": [
        {
          "output_type": "stream",
          "name": "stdout",
          "text": [
            "type a single character : e\n",
            "your typed vowel character:  e\n"
          ]
        }
      ]
    },
    {
      "cell_type": "markdown",
      "source": [
        " Time Classification:"
      ],
      "metadata": {
        "id": "ehbCT8CFBDlp"
      }
    },
    {
      "cell_type": "code",
      "source": [
        "24 hour time"
      ],
      "metadata": {
        "id": "Pa5YgBXnAC4y"
      },
      "execution_count": null,
      "outputs": []
    }
  ]
}